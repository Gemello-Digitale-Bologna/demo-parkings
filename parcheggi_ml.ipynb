{
 "cells": [
  {
   "cell_type": "markdown",
   "id": "e6e0403a-7f71-4461-96ed-ccccc014a1df",
   "metadata": {},
   "source": [
    "## 1. Model Training\n",
    "We train a data prediction model using darts framework and NBEATS Deep Learning model."
   ]
  },
  {
   "cell_type": "code",
   "execution_count": 1,
   "id": "00f75c71-9f2a-4f03-ab89-0c9f174de31d",
   "metadata": {},
   "outputs": [
    {
     "name": "stdout",
     "output_type": "stream",
     "text": [
      "Requirement already satisfied: darts==0.25.0 in /opt/conda/lib/python3.9/site-packages (0.25.0)\n",
      "Requirement already satisfied: pandas==1.4.4 in /opt/conda/lib/python3.9/site-packages (1.4.4)\n",
      "Requirement already satisfied: numpy==1.22.4 in /opt/conda/lib/python3.9/site-packages (1.22.4)\n",
      "Requirement already satisfied: patsy==0.5.2 in /opt/conda/lib/python3.9/site-packages (0.5.2)\n",
      "Requirement already satisfied: holidays>=0.11.1 in /opt/conda/lib/python3.9/site-packages (from darts==0.25.0) (0.42)\n",
      "Requirement already satisfied: shap>=0.40.0 in /opt/conda/lib/python3.9/site-packages (from darts==0.25.0) (0.44.1)\n",
      "Requirement already satisfied: typing-extensions in /opt/conda/lib/python3.9/site-packages (from darts==0.25.0) (4.9.0)\n",
      "Requirement already satisfied: requests>=2.22.0 in /opt/conda/lib/python3.9/site-packages (from darts==0.25.0) (2.31.0)\n",
      "Requirement already satisfied: scipy>=1.3.2 in /opt/conda/lib/python3.9/site-packages (from darts==0.25.0) (1.9.1)\n",
      "Requirement already satisfied: pyod>=0.9.5 in /opt/conda/lib/python3.9/site-packages (from darts==0.25.0) (1.1.3)\n",
      "Requirement already satisfied: tbats>=1.1.0 in /opt/conda/lib/python3.9/site-packages (from darts==0.25.0) (1.1.3)\n",
      "Requirement already satisfied: tqdm>=4.60.0 in /opt/conda/lib/python3.9/site-packages (from darts==0.25.0) (4.64.1)\n",
      "Requirement already satisfied: matplotlib>=3.3.0 in /opt/conda/lib/python3.9/site-packages (from darts==0.25.0) (3.6.0)\n",
      "Requirement already satisfied: pytorch-lightning>=1.5.0 in /opt/conda/lib/python3.9/site-packages (from darts==0.25.0) (2.2.0.post0)\n",
      "Requirement already satisfied: xarray>=0.17.0 in /opt/conda/lib/python3.9/site-packages (from darts==0.25.0) (2023.12.0)\n",
      "Requirement already satisfied: xgboost>=1.6.0 in /opt/conda/lib/python3.9/site-packages (from darts==0.25.0) (1.7.6)\n",
      "Requirement already satisfied: joblib>=0.16.0 in /opt/conda/lib/python3.9/site-packages (from darts==0.25.0) (1.2.0)\n",
      "Requirement already satisfied: scikit-learn>=1.0.1 in /opt/conda/lib/python3.9/site-packages (from darts==0.25.0) (1.1.2)\n",
      "Requirement already satisfied: statsmodels>=0.14.0 in /opt/conda/lib/python3.9/site-packages (from darts==0.25.0) (0.14.0)\n",
      "Requirement already satisfied: torch>=1.8.0 in /opt/conda/lib/python3.9/site-packages (from darts==0.25.0) (2.2.0)\n",
      "Requirement already satisfied: nfoursid>=1.0.0 in /opt/conda/lib/python3.9/site-packages (from darts==0.25.0) (1.0.1)\n",
      "Requirement already satisfied: tensorboardX>=2.1 in /opt/conda/lib/python3.9/site-packages (from darts==0.25.0) (2.6.2.2)\n",
      "Requirement already satisfied: pmdarima>=1.8.0 in /opt/conda/lib/python3.9/site-packages (from darts==0.25.0) (2.0.4)\n",
      "Requirement already satisfied: statsforecast>=1.4 in /opt/conda/lib/python3.9/site-packages (from darts==0.25.0) (1.7.3)\n",
      "Requirement already satisfied: python-dateutil>=2.8.1 in /opt/conda/lib/python3.9/site-packages (from pandas==1.4.4) (2.8.2)\n",
      "Requirement already satisfied: pytz>=2020.1 in /opt/conda/lib/python3.9/site-packages (from pandas==1.4.4) (2022.4)\n",
      "Requirement already satisfied: six in /opt/conda/lib/python3.9/site-packages (from patsy==0.5.2) (1.16.0)\n",
      "Requirement already satisfied: pyparsing>=2.2.1 in /opt/conda/lib/python3.9/site-packages (from matplotlib>=3.3.0->darts==0.25.0) (3.0.9)\n",
      "Requirement already satisfied: packaging>=20.0 in /opt/conda/lib/python3.9/site-packages (from matplotlib>=3.3.0->darts==0.25.0) (21.3)\n",
      "Requirement already satisfied: kiwisolver>=1.0.1 in /opt/conda/lib/python3.9/site-packages (from matplotlib>=3.3.0->darts==0.25.0) (1.4.4)\n",
      "Requirement already satisfied: cycler>=0.10 in /opt/conda/lib/python3.9/site-packages (from matplotlib>=3.3.0->darts==0.25.0) (0.11.0)\n",
      "Requirement already satisfied: pillow>=6.2.0 in /opt/conda/lib/python3.9/site-packages (from matplotlib>=3.3.0->darts==0.25.0) (9.2.0)\n",
      "Requirement already satisfied: contourpy>=1.0.1 in /opt/conda/lib/python3.9/site-packages (from matplotlib>=3.3.0->darts==0.25.0) (1.0.5)\n",
      "Requirement already satisfied: fonttools>=4.22.0 in /opt/conda/lib/python3.9/site-packages (from matplotlib>=3.3.0->darts==0.25.0) (4.37.4)\n",
      "Requirement already satisfied: urllib3 in /opt/conda/lib/python3.9/site-packages (from pmdarima>=1.8.0->darts==0.25.0) (1.26.11)\n",
      "Requirement already satisfied: setuptools!=50.0.0,>=38.6.0 in /opt/conda/lib/python3.9/site-packages (from pmdarima>=1.8.0->darts==0.25.0) (65.7.0)\n",
      "Requirement already satisfied: Cython!=0.29.18,!=0.29.31,>=0.29 in /opt/conda/lib/python3.9/site-packages (from pmdarima>=1.8.0->darts==0.25.0) (0.29.32)\n",
      "Requirement already satisfied: numba>=0.51 in /opt/conda/lib/python3.9/site-packages (from pyod>=0.9.5->darts==0.25.0) (0.56.2)\n",
      "Requirement already satisfied: torchmetrics>=0.7.0 in /opt/conda/lib/python3.9/site-packages (from pytorch-lightning>=1.5.0->darts==0.25.0) (1.3.1)\n",
      "Requirement already satisfied: fsspec[http]>=2022.5.0 in /opt/conda/lib/python3.9/site-packages (from pytorch-lightning>=1.5.0->darts==0.25.0) (2023.1.0)\n",
      "Requirement already satisfied: PyYAML>=5.4 in /opt/conda/lib/python3.9/site-packages (from pytorch-lightning>=1.5.0->darts==0.25.0) (5.4.1)\n",
      "Requirement already satisfied: lightning-utilities>=0.8.0 in /opt/conda/lib/python3.9/site-packages (from pytorch-lightning>=1.5.0->darts==0.25.0) (0.10.1)\n",
      "Requirement already satisfied: certifi>=2017.4.17 in /opt/conda/lib/python3.9/site-packages (from requests>=2.22.0->darts==0.25.0) (2022.9.24)\n",
      "Requirement already satisfied: idna<4,>=2.5 in /opt/conda/lib/python3.9/site-packages (from requests>=2.22.0->darts==0.25.0) (3.4)\n",
      "Requirement already satisfied: charset-normalizer<4,>=2 in /opt/conda/lib/python3.9/site-packages (from requests>=2.22.0->darts==0.25.0) (2.1.1)\n",
      "Requirement already satisfied: threadpoolctl>=2.0.0 in /opt/conda/lib/python3.9/site-packages (from scikit-learn>=1.0.1->darts==0.25.0) (3.1.0)\n",
      "Requirement already satisfied: cloudpickle in /opt/conda/lib/python3.9/site-packages (from shap>=0.40.0->darts==0.25.0) (2.2.0)\n",
      "Requirement already satisfied: slicer==0.0.7 in /opt/conda/lib/python3.9/site-packages (from shap>=0.40.0->darts==0.25.0) (0.0.7)\n",
      "Requirement already satisfied: fugue>=0.8.1 in /opt/conda/lib/python3.9/site-packages (from statsforecast>=1.4->darts==0.25.0) (0.8.7)\n",
      "Requirement already satisfied: utilsforecast>=0.0.24 in /opt/conda/lib/python3.9/site-packages (from statsforecast>=1.4->darts==0.25.0) (0.0.26)\n",
      "Requirement already satisfied: protobuf>=3.20 in /opt/conda/lib/python3.9/site-packages (from tensorboardX>=2.1->darts==0.25.0) (3.20.3)\n",
      "Requirement already satisfied: nvidia-nccl-cu12==2.19.3 in /opt/conda/lib/python3.9/site-packages (from torch>=1.8.0->darts==0.25.0) (2.19.3)\n",
      "Requirement already satisfied: jinja2 in /opt/conda/lib/python3.9/site-packages (from torch>=1.8.0->darts==0.25.0) (3.1.2)\n",
      "Requirement already satisfied: nvidia-cuda-cupti-cu12==12.1.105 in /opt/conda/lib/python3.9/site-packages (from torch>=1.8.0->darts==0.25.0) (12.1.105)\n",
      "Requirement already satisfied: nvidia-cusparse-cu12==12.1.0.106 in /opt/conda/lib/python3.9/site-packages (from torch>=1.8.0->darts==0.25.0) (12.1.0.106)\n",
      "Requirement already satisfied: nvidia-cufft-cu12==11.0.2.54 in /opt/conda/lib/python3.9/site-packages (from torch>=1.8.0->darts==0.25.0) (11.0.2.54)\n",
      "Requirement already satisfied: triton==2.2.0 in /opt/conda/lib/python3.9/site-packages (from torch>=1.8.0->darts==0.25.0) (2.2.0)\n",
      "Requirement already satisfied: nvidia-cuda-runtime-cu12==12.1.105 in /opt/conda/lib/python3.9/site-packages (from torch>=1.8.0->darts==0.25.0) (12.1.105)\n",
      "Requirement already satisfied: filelock in /opt/conda/lib/python3.9/site-packages (from torch>=1.8.0->darts==0.25.0) (3.13.1)\n",
      "Requirement already satisfied: nvidia-nvtx-cu12==12.1.105 in /opt/conda/lib/python3.9/site-packages (from torch>=1.8.0->darts==0.25.0) (12.1.105)\n",
      "Requirement already satisfied: sympy in /opt/conda/lib/python3.9/site-packages (from torch>=1.8.0->darts==0.25.0) (1.11.1)\n",
      "Requirement already satisfied: nvidia-cublas-cu12==12.1.3.1 in /opt/conda/lib/python3.9/site-packages (from torch>=1.8.0->darts==0.25.0) (12.1.3.1)\n",
      "Requirement already satisfied: nvidia-cudnn-cu12==8.9.2.26 in /opt/conda/lib/python3.9/site-packages (from torch>=1.8.0->darts==0.25.0) (8.9.2.26)\n",
      "Requirement already satisfied: nvidia-curand-cu12==10.3.2.106 in /opt/conda/lib/python3.9/site-packages (from torch>=1.8.0->darts==0.25.0) (10.3.2.106)\n",
      "Requirement already satisfied: nvidia-cusolver-cu12==11.4.5.107 in /opt/conda/lib/python3.9/site-packages (from torch>=1.8.0->darts==0.25.0) (11.4.5.107)\n",
      "Requirement already satisfied: nvidia-cuda-nvrtc-cu12==12.1.105 in /opt/conda/lib/python3.9/site-packages (from torch>=1.8.0->darts==0.25.0) (12.1.105)\n",
      "Requirement already satisfied: networkx in /opt/conda/lib/python3.9/site-packages (from torch>=1.8.0->darts==0.25.0) (2.8.7)\n",
      "Requirement already satisfied: nvidia-nvjitlink-cu12 in /opt/conda/lib/python3.9/site-packages (from nvidia-cusolver-cu12==11.4.5.107->torch>=1.8.0->darts==0.25.0) (12.3.101)\n",
      "Requirement already satisfied: aiohttp!=4.0.0a0,!=4.0.0a1 in /opt/conda/lib/python3.9/site-packages (from fsspec[http]>=2022.5.0->pytorch-lightning>=1.5.0->darts==0.25.0) (3.8.5)\n",
      "Requirement already satisfied: fugue-sql-antlr>=0.1.6 in /opt/conda/lib/python3.9/site-packages (from fugue>=0.8.1->statsforecast>=1.4->darts==0.25.0) (0.2.0)\n",
      "Requirement already satisfied: adagio>=0.2.4 in /opt/conda/lib/python3.9/site-packages (from fugue>=0.8.1->statsforecast>=1.4->darts==0.25.0) (0.2.4)\n",
      "Requirement already satisfied: sqlglot in /opt/conda/lib/python3.9/site-packages (from fugue>=0.8.1->statsforecast>=1.4->darts==0.25.0) (21.1.0)\n",
      "Requirement already satisfied: qpd>=0.4.4 in /opt/conda/lib/python3.9/site-packages (from fugue>=0.8.1->statsforecast>=1.4->darts==0.25.0) (0.4.4)\n",
      "Requirement already satisfied: triad>=0.9.3 in /opt/conda/lib/python3.9/site-packages (from fugue>=0.8.1->statsforecast>=1.4->darts==0.25.0) (0.9.5)\n",
      "Requirement already satisfied: llvmlite<0.40,>=0.39.0dev0 in /opt/conda/lib/python3.9/site-packages (from numba>=0.51->pyod>=0.9.5->darts==0.25.0) (0.39.1)\n",
      "Requirement already satisfied: MarkupSafe>=2.0 in /opt/conda/lib/python3.9/site-packages (from jinja2->torch>=1.8.0->darts==0.25.0) (2.1.1)\n",
      "Requirement already satisfied: mpmath>=0.19 in /opt/conda/lib/python3.9/site-packages (from sympy->torch>=1.8.0->darts==0.25.0) (1.2.1)\n",
      "Requirement already satisfied: aiosignal>=1.1.2 in /opt/conda/lib/python3.9/site-packages (from aiohttp!=4.0.0a0,!=4.0.0a1->fsspec[http]>=2022.5.0->pytorch-lightning>=1.5.0->darts==0.25.0) (1.3.1)\n",
      "Requirement already satisfied: async-timeout<5.0,>=4.0.0a3 in /opt/conda/lib/python3.9/site-packages (from aiohttp!=4.0.0a0,!=4.0.0a1->fsspec[http]>=2022.5.0->pytorch-lightning>=1.5.0->darts==0.25.0) (4.0.2)\n",
      "Requirement already satisfied: attrs>=17.3.0 in /opt/conda/lib/python3.9/site-packages (from aiohttp!=4.0.0a0,!=4.0.0a1->fsspec[http]>=2022.5.0->pytorch-lightning>=1.5.0->darts==0.25.0) (22.1.0)\n",
      "Requirement already satisfied: frozenlist>=1.1.1 in /opt/conda/lib/python3.9/site-packages (from aiohttp!=4.0.0a0,!=4.0.0a1->fsspec[http]>=2022.5.0->pytorch-lightning>=1.5.0->darts==0.25.0) (1.4.0)\n",
      "Requirement already satisfied: yarl<2.0,>=1.0 in /opt/conda/lib/python3.9/site-packages (from aiohttp!=4.0.0a0,!=4.0.0a1->fsspec[http]>=2022.5.0->pytorch-lightning>=1.5.0->darts==0.25.0) (1.9.2)\n",
      "Requirement already satisfied: multidict<7.0,>=4.5 in /opt/conda/lib/python3.9/site-packages (from aiohttp!=4.0.0a0,!=4.0.0a1->fsspec[http]>=2022.5.0->pytorch-lightning>=1.5.0->darts==0.25.0) (6.0.4)\n",
      "Requirement already satisfied: antlr4-python3-runtime<4.12 in /opt/conda/lib/python3.9/site-packages (from fugue-sql-antlr>=0.1.6->fugue>=0.8.1->statsforecast>=1.4->darts==0.25.0) (4.11.1)\n",
      "Requirement already satisfied: pyarrow>=6.0.1 in /opt/conda/lib/python3.9/site-packages (from triad>=0.9.3->fugue>=0.8.1->statsforecast>=1.4->darts==0.25.0) (11.0.0)\n",
      "Requirement already satisfied: fs in /opt/conda/lib/python3.9/site-packages (from triad>=0.9.3->fugue>=0.8.1->statsforecast>=1.4->darts==0.25.0) (2.4.16)\n",
      "Requirement already satisfied: appdirs~=1.4.3 in /opt/conda/lib/python3.9/site-packages (from fs->triad>=0.9.3->fugue>=0.8.1->statsforecast>=1.4->darts==0.25.0) (1.4.4)\n",
      "\n",
      "\u001b[1m[\u001b[0m\u001b[34;49mnotice\u001b[0m\u001b[1;39;49m]\u001b[0m\u001b[39;49m A new release of pip available: \u001b[0m\u001b[31;49m22.3.1\u001b[0m\u001b[39;49m -> \u001b[0m\u001b[32;49m24.0\u001b[0m\n",
      "\u001b[1m[\u001b[0m\u001b[34;49mnotice\u001b[0m\u001b[1;39;49m]\u001b[0m\u001b[39;49m To update, run: \u001b[0m\u001b[32;49mpip install --upgrade pip\u001b[0m\n",
      "Note: you may need to restart the kernel to use updated packages.\n"
     ]
    }
   ],
   "source": [
    "%pip install darts==0.25.0 pandas==1.4.4 numpy==1.22.4 patsy==0.5.2"
   ]
  },
  {
   "cell_type": "code",
   "execution_count": 2,
   "id": "47429826-291e-4c85-87bc-0420841415fd",
   "metadata": {},
   "outputs": [
    {
     "data": {
      "text/html": [
       "<div>\n",
       "<style scoped>\n",
       "    .dataframe tbody tr th:only-of-type {\n",
       "        vertical-align: middle;\n",
       "    }\n",
       "\n",
       "    .dataframe tbody tr th {\n",
       "        vertical-align: top;\n",
       "    }\n",
       "\n",
       "    .dataframe thead th {\n",
       "        text-align: right;\n",
       "    }\n",
       "</style>\n",
       "<table border=\"1\" class=\"dataframe\">\n",
       "  <thead>\n",
       "    <tr style=\"text-align: right;\">\n",
       "      <th></th>\n",
       "      <th>parcheggio</th>\n",
       "      <th>data</th>\n",
       "      <th>posti_liberi</th>\n",
       "      <th>posti_occupati</th>\n",
       "      <th>posti_totali</th>\n",
       "      <th>lat</th>\n",
       "      <th>lon</th>\n",
       "    </tr>\n",
       "  </thead>\n",
       "  <tbody>\n",
       "    <tr>\n",
       "      <th>0</th>\n",
       "      <td>Riva Reno</td>\n",
       "      <td>2023-08-01T00:30:00+00:00</td>\n",
       "      <td>354.0</td>\n",
       "      <td>116.0</td>\n",
       "      <td>470</td>\n",
       "      <td>44.501153</td>\n",
       "      <td>11.336062</td>\n",
       "    </tr>\n",
       "    <tr>\n",
       "      <th>1</th>\n",
       "      <td>Riva Reno</td>\n",
       "      <td>2023-08-01T01:00:00+00:00</td>\n",
       "      <td>354.0</td>\n",
       "      <td>116.0</td>\n",
       "      <td>470</td>\n",
       "      <td>44.501153</td>\n",
       "      <td>11.336062</td>\n",
       "    </tr>\n",
       "    <tr>\n",
       "      <th>2</th>\n",
       "      <td>VIII Agosto</td>\n",
       "      <td>2023-08-01T02:30:00+00:00</td>\n",
       "      <td>379.0</td>\n",
       "      <td>246.0</td>\n",
       "      <td>625</td>\n",
       "      <td>44.500297</td>\n",
       "      <td>11.345368</td>\n",
       "    </tr>\n",
       "    <tr>\n",
       "      <th>3</th>\n",
       "      <td>Riva Reno</td>\n",
       "      <td>2023-08-01T02:30:00+00:00</td>\n",
       "      <td>354.0</td>\n",
       "      <td>116.0</td>\n",
       "      <td>470</td>\n",
       "      <td>44.501153</td>\n",
       "      <td>11.336062</td>\n",
       "    </tr>\n",
       "    <tr>\n",
       "      <th>4</th>\n",
       "      <td>Riva Reno</td>\n",
       "      <td>2023-08-01T03:00:00+00:00</td>\n",
       "      <td>354.0</td>\n",
       "      <td>116.0</td>\n",
       "      <td>470</td>\n",
       "      <td>44.501153</td>\n",
       "      <td>11.336062</td>\n",
       "    </tr>\n",
       "  </tbody>\n",
       "</table>\n",
       "</div>"
      ],
      "text/plain": [
       "    parcheggio                       data  posti_liberi  posti_occupati  \\\n",
       "0    Riva Reno  2023-08-01T00:30:00+00:00         354.0           116.0   \n",
       "1    Riva Reno  2023-08-01T01:00:00+00:00         354.0           116.0   \n",
       "2  VIII Agosto  2023-08-01T02:30:00+00:00         379.0           246.0   \n",
       "3    Riva Reno  2023-08-01T02:30:00+00:00         354.0           116.0   \n",
       "4    Riva Reno  2023-08-01T03:00:00+00:00         354.0           116.0   \n",
       "\n",
       "   posti_totali        lat        lon  \n",
       "0           470  44.501153  11.336062  \n",
       "1           470  44.501153  11.336062  \n",
       "2           625  44.500297  11.345368  \n",
       "3           470  44.501153  11.336062  \n",
       "4           470  44.501153  11.336062  "
      ]
     },
     "execution_count": 2,
     "metadata": {},
     "output_type": "execute_result"
    }
   ],
   "source": [
    "import mlrun\n",
    "\n",
    "di = mlrun.get_dataitem('store://datasets/parcheggi/download-all_dataset')\n",
    "df = di.as_df()\n",
    "df.head()"
   ]
  },
  {
   "cell_type": "markdown",
   "id": "7d4edf63-04f8-4f59-bf92-659adc61c86f",
   "metadata": {},
   "source": [
    "### 1.1. Prepare data"
   ]
  },
  {
   "cell_type": "markdown",
   "id": "8161b902-85e5-43cc-940e-d4e86b961ab6",
   "metadata": {},
   "source": [
    "Clean data: convert date to datetime and calculate occupied ratio, remove redundant columns."
   ]
  },
  {
   "cell_type": "code",
   "execution_count": 3,
   "id": "34fdee6b-33d7-4acf-a71d-463fe983fb84",
   "metadata": {},
   "outputs": [
    {
     "data": {
      "text/html": [
       "<div>\n",
       "<style scoped>\n",
       "    .dataframe tbody tr th:only-of-type {\n",
       "        vertical-align: middle;\n",
       "    }\n",
       "\n",
       "    .dataframe tbody tr th {\n",
       "        vertical-align: top;\n",
       "    }\n",
       "\n",
       "    .dataframe thead th {\n",
       "        text-align: right;\n",
       "    }\n",
       "</style>\n",
       "<table border=\"1\" class=\"dataframe\">\n",
       "  <thead>\n",
       "    <tr style=\"text-align: right;\">\n",
       "      <th></th>\n",
       "      <th>parcheggio</th>\n",
       "      <th>occupied</th>\n",
       "      <th>date_time_slice</th>\n",
       "    </tr>\n",
       "  </thead>\n",
       "  <tbody>\n",
       "    <tr>\n",
       "      <th>10841</th>\n",
       "      <td>VIII Agosto</td>\n",
       "      <td>0.993600</td>\n",
       "      <td>2023-12-16 16:00:00</td>\n",
       "    </tr>\n",
       "    <tr>\n",
       "      <th>10842</th>\n",
       "      <td>Riva Reno</td>\n",
       "      <td>0.980851</td>\n",
       "      <td>2023-12-16 16:00:00</td>\n",
       "    </tr>\n",
       "    <tr>\n",
       "      <th>10843</th>\n",
       "      <td>VIII Agosto</td>\n",
       "      <td>0.998400</td>\n",
       "      <td>2023-12-16 16:00:00</td>\n",
       "    </tr>\n",
       "    <tr>\n",
       "      <th>10844</th>\n",
       "      <td>Riva Reno</td>\n",
       "      <td>0.991489</td>\n",
       "      <td>2023-12-16 16:00:00</td>\n",
       "    </tr>\n",
       "    <tr>\n",
       "      <th>10845</th>\n",
       "      <td>Autostazione</td>\n",
       "      <td>0.845283</td>\n",
       "      <td>2023-12-16 16:00:00</td>\n",
       "    </tr>\n",
       "  </tbody>\n",
       "</table>\n",
       "</div>"
      ],
      "text/plain": [
       "         parcheggio  occupied     date_time_slice\n",
       "10841   VIII Agosto  0.993600 2023-12-16 16:00:00\n",
       "10842     Riva Reno  0.980851 2023-12-16 16:00:00\n",
       "10843   VIII Agosto  0.998400 2023-12-16 16:00:00\n",
       "10844     Riva Reno  0.991489 2023-12-16 16:00:00\n",
       "10845  Autostazione  0.845283 2023-12-16 16:00:00"
      ]
     },
     "execution_count": 3,
     "metadata": {},
     "output_type": "execute_result"
    }
   ],
   "source": [
    "import datetime\n",
    "import pandas as pd\n",
    "\n",
    "window = 60\n",
    "\n",
    "df_clean = df.copy()\n",
    "df_clean.data = df_clean.data.astype('datetime64')\n",
    "df_clean['occupied'] = df_clean.posti_occupati / df_clean.posti_totali\n",
    "df_clean['date_time_slice'] = df_clean.data.dt.round('30min')\n",
    "df_clean = df_clean[df_clean.date_time_slice >= (datetime.datetime.today() - pd.DateOffset(window))]\n",
    "df_clean = df_clean[df_clean.date_time_slice <= (datetime.datetime.today() - pd.DateOffset(1))]\n",
    "df_clean.posti_occupati = df_clean.apply(lambda x: max(0, min(x['posti_totali'], x['posti_occupati'])), axis=1)\n",
    "df_clean['occupied'] = df_clean.posti_occupati / df_clean.posti_totali\n",
    "df_clean = df_clean.drop(columns=['lat', 'lon', 'data', 'posti_totali', 'posti_liberi', 'posti_occupati'])\n",
    "df_clean.head()"
   ]
  },
  {
   "cell_type": "markdown",
   "id": "33e7c8d3-07c2-47b9-82e0-4ca6c19bbb9f",
   "metadata": {},
   "source": [
    "### 1.2. Create multiple time series"
   ]
  },
  {
   "cell_type": "code",
   "execution_count": 4,
   "id": "b52b04c5-686c-46b0-b5b5-c1620c2070b9",
   "metadata": {},
   "outputs": [
    {
     "name": "stderr",
     "output_type": "stream",
     "text": [
      "\n",
      "A value is trying to be set on a copy of a slice from a DataFrame.\n",
      "Try using .loc[row_indexer,col_indexer] = value instead\n",
      "\n",
      "See the caveats in the documentation: https://pandas.pydata.org/pandas-docs/stable/user_guide/indexing.html#returning-a-view-versus-a-copy\n",
      "\n",
      "A value is trying to be set on a copy of a slice from a DataFrame.\n",
      "Try using .loc[row_indexer,col_indexer] = value instead\n",
      "\n",
      "See the caveats in the documentation: https://pandas.pydata.org/pandas-docs/stable/user_guide/indexing.html#returning-a-view-versus-a-copy\n",
      "\n",
      "A value is trying to be set on a copy of a slice from a DataFrame.\n",
      "Try using .loc[row_indexer,col_indexer] = value instead\n",
      "\n",
      "See the caveats in the documentation: https://pandas.pydata.org/pandas-docs/stable/user_guide/indexing.html#returning-a-view-versus-a-copy\n",
      "\n",
      "A value is trying to be set on a copy of a slice from a DataFrame.\n",
      "Try using .loc[row_indexer,col_indexer] = value instead\n",
      "\n",
      "See the caveats in the documentation: https://pandas.pydata.org/pandas-docs/stable/user_guide/indexing.html#returning-a-view-versus-a-copy\n",
      "\n",
      "A value is trying to be set on a copy of a slice from a DataFrame.\n",
      "Try using .loc[row_indexer,col_indexer] = value instead\n",
      "\n",
      "See the caveats in the documentation: https://pandas.pydata.org/pandas-docs/stable/user_guide/indexing.html#returning-a-view-versus-a-copy\n",
      "\n",
      "A value is trying to be set on a copy of a slice from a DataFrame.\n",
      "Try using .loc[row_indexer,col_indexer] = value instead\n",
      "\n",
      "See the caveats in the documentation: https://pandas.pydata.org/pandas-docs/stable/user_guide/indexing.html#returning-a-view-versus-a-copy\n"
     ]
    },
    {
     "data": {
      "text/plain": [
       "<AxesSubplot: xlabel='date_time_slice'>"
      ]
     },
     "execution_count": 4,
     "metadata": {},
     "output_type": "execute_result"
    },
    {
     "data": {
      "image/png": "[encoded data removed]",
      "text/plain": [
       "<Figure size 640x480 with 1 Axes>"
      ]
     },
     "metadata": {},
     "output_type": "display_data"
    }
   ],
   "source": [
    "from darts import TimeSeries\n",
    "from darts.dataprocessing.transformers import Scaler\n",
    "\n",
    "split_ratio = 0.8\n",
    "\n",
    "def fill_missing(parc_df):\n",
    "    missing = []  # List to store timestamps for which values could not be filled\n",
    "    temp = pd.Series(parc_df.index.date).value_counts()  # Count the occurrences of each date\n",
    "    temp = temp[temp < 48]  # Filter dates with less than 48 occurrences\n",
    "    temp.sort_index(inplace=True)  # Sort the dates in ascending order\n",
    "    for t in temp.index:  # Iterate through the filtered dates\n",
    "        for h in range(24):  # Iterate through 24 hours\n",
    "            for half_hour in [0, 30]:  # Iterate through 0 and 30 minutes\n",
    "                ts = datetime.datetime(t.year, t.month, t.day, h, half_hour)  # Create a timestamp\n",
    "                if ts not in parc_df.index:  # If the timestamp is missing in the DataFrame\n",
    "                    if ts - datetime.timedelta(days=7) in parc_df.index:  # Check if the previous week's timestamp is available\n",
    "                        parc_df.loc[ts] = parc_df.loc[ts - datetime.timedelta(days=7)].copy()  # Copy values from the previous week\n",
    "                    elif ts + datetime.timedelta(days=7) in parc_df.index:  # Check if the next week's timestamp is available\n",
    "                        parc_df.loc[ts] = parc_df.loc[ts + datetime.timedelta(days=7)].copy()  # Copy values from the next week\n",
    "                    else:\n",
    "                        missing.append(ts)  # If values cannot be filled, add the timestamp to the missing list\n",
    "    return missing \n",
    "parcheggi = df_clean['parcheggio'].unique()\n",
    "\n",
    "train_sets, val_sets = [], []\n",
    "\n",
    "for parcheggio in parcheggi:\n",
    "    parc_df = df_clean[df_clean['parcheggio'] == parcheggio]\n",
    "    parc_df['hour'] = parc_df.date_time_slice.dt.hour\n",
    "    parc_df['dow'] = parc_df.date_time_slice.dt.dayofweek\n",
    "    parc_df = parc_df.drop(columns=['parcheggio'])\n",
    "    parc_df = parc_df.groupby('date_time_slice').agg({'occupied': 'mean', 'hour': 'first', 'dow': 'first'})\n",
    "    fill_missing(parc_df)\n",
    "    ts = TimeSeries.from_dataframe(parc_df,  value_cols='occupied', freq='30min')\n",
    "    ts_scaled = Scaler().fit_transform(ts)\n",
    "\n",
    "    split = int(len(ts_scaled) * (1 - split_ratio))\n",
    "\n",
    "    train, val = ts_scaled[:-split], ts_scaled[-split:]\n",
    "    train_sets.append(train)\n",
    "    val_sets.append(val)\n",
    "    \n",
    "train_sets[0].plot(label='train')"
   ]
  },
  {
   "cell_type": "code",
   "execution_count": 5,
   "id": "59bf880a-7d42-471b-955f-0a9219ea87b7",
   "metadata": {},
   "outputs": [
    {
     "name": "stderr",
     "output_type": "stream",
     "text": [
      "The `LightGBM` module could not be imported. To enable LightGBM support in Darts, follow the detailed instructions in the installation guide: https://github.com/unit8co/darts/blob/master/INSTALL.md\n",
      "The `Prophet` module could not be imported. To enable Prophet support in Darts, follow the detailed instructions in the installation guide: https://github.com/unit8co/darts/blob/master/INSTALL.md\n",
      "The `CatBoost` module could not be imported. To enable CatBoost support in Darts, follow the detailed instructions in the installation guide: https://github.com/unit8co/darts/blob/master/INSTALL.md\n",
      "GPU available: False, used: False\n",
      "TPU available: False, using: 0 TPU cores\n",
      "IPU available: False, using: 0 IPUs\n",
      "HPU available: False, using: 0 HPUs\n",
      "\n",
      "  | Name          | Type             | Params\n",
      "---------------------------------------------------\n",
      "0 | criterion     | MSELoss          | 0     \n",
      "1 | train_metrics | MetricCollection | 0     \n",
      "2 | val_metrics   | MetricCollection | 0     \n",
      "3 | stacks        | ModuleList       | 6.2 M \n",
      "---------------------------------------------------\n",
      "6.2 M     Trainable params\n",
      "1.4 K     Non-trainable params\n",
      "6.2 M     Total params\n",
      "24.787    Total estimated model params size (MB)\n"
     ]
    },
    {
     "data": {
      "application/vnd.jupyter.widget-view+json": {
       "model_id": "07f44441b99840bfa8ae6b573ced52ea",
       "version_major": 2,
       "version_minor": 0
      },
      "text/plain": [
       "Training: |          | 0/? [00:00<?, ?it/s]"
      ]
     },
     "metadata": {},
     "output_type": "display_data"
    },
    {
     "name": "stderr",
     "output_type": "stream",
     "text": [
      "`Trainer.fit` stopped: `max_epochs=10` reached.\n"
     ]
    },
    {
     "data": {
      "text/plain": [
       "NBEATSModel(generic_architecture=True, num_stacks=30, num_blocks=1, num_layers=4, layer_widths=256, expansion_coefficient_dim=5, trend_polynomial_degree=2, dropout=0.0, activation=ReLU, input_chunk_length=24, output_chunk_length=12, n_epochs=10, random_state=0)"
      ]
     },
     "execution_count": 5,
     "metadata": {},
     "output_type": "execute_result"
    }
   ],
   "source": [
    "from darts.models import NBEATSModel\n",
    "\n",
    "multimodel =  NBEATSModel(\n",
    "        input_chunk_length=24,\n",
    "        output_chunk_length=12,\n",
    "        n_epochs=10,\n",
    "        random_state=0\n",
    "    )\n",
    "\n",
    "multimodel.fit(train_sets)"
   ]
  },
  {
   "cell_type": "code",
   "execution_count": 6,
   "id": "4d3d7379-828c-43f9-8988-47bb3807b6aa",
   "metadata": {},
   "outputs": [
    {
     "name": "stderr",
     "output_type": "stream",
     "text": [
      "GPU available: False, used: False\n",
      "TPU available: False, using: 0 TPU cores\n",
      "IPU available: False, using: 0 IPUs\n",
      "HPU available: False, using: 0 HPUs\n"
     ]
    },
    {
     "data": {
      "application/vnd.jupyter.widget-view+json": {
       "model_id": "ffb869f3ab584e8db21501edd28cacf5",
       "version_major": 2,
       "version_minor": 0
      },
      "text/plain": [
       "Predicting: |          | 0/? [00:00<?, ?it/s]"
      ]
     },
     "metadata": {},
     "output_type": "display_data"
    },
    {
     "data": {
      "text/plain": [
       "<AxesSubplot: xlabel='date_time_slice'>"
      ]
     },
     "execution_count": 6,
     "metadata": {},
     "output_type": "execute_result"
    },
    {
     "data": {
      "image/png": "[encoded data removed]",
      "text/plain": [
       "<Figure size 1000x600 with 1 Axes>"
      ]
     },
     "metadata": {},
     "output_type": "display_data"
    }
   ],
   "source": [
    "import matplotlib.pyplot as plt\n",
    "\n",
    "pred = multimodel.predict(n=24, series=train_sets[0][:-24])\n",
    "\n",
    "plt.figure(figsize=(10, 6))\n",
    "train_sets[0].plot(label=\"actual\")\n",
    "pred.plot(label=\"forecast\")"
   ]
  },
  {
   "cell_type": "code",
   "execution_count": 7,
   "id": "504a0f32-a612-4ef9-9c10-1af84a319b15",
   "metadata": {},
   "outputs": [
    {
     "data": {
      "text/plain": [
       "{'mape': 10.870946607298025,\n",
       " 'smape': 10.274379642982186,\n",
       " 'mae': 0.056647639368868095}"
      ]
     },
     "execution_count": 7,
     "metadata": {},
     "output_type": "execute_result"
    }
   ],
   "source": [
    "from darts.metrics import mape, smape, mae\n",
    "\n",
    "metrics = {\n",
    "    \"mape\": mape(train_sets[0], pred),\n",
    "    \"smape\": smape(train_sets[0], pred),\n",
    "    \"mae\": mae(train_sets[0], pred)\n",
    "}\n",
    "metrics"
   ]
  },
  {
   "cell_type": "markdown",
   "id": "24a1806b-30b7-4586-914a-59ff0d1b4cf2",
   "metadata": {},
   "source": [
    "## 2. ML Ops\n",
    "With the help of the platform, we will create the training function, train a parking occupation prediction model, and deploy it to the cluster as an inference API."
   ]
  },
  {
   "cell_type": "markdown",
   "id": "95a716dd-a707-4edd-9a2b-c1be40a214ae",
   "metadata": {},
   "source": [
    "### 2.1. Initalization\n",
    "Create the working context: data management project for the parking data processing. Project is a placeholder for the code, data, and management of the parking data operations. To keep it reproducible, we use the `git` source type to store the definition and code."
   ]
  },
  {
   "cell_type": "code",
   "execution_count": 8,
   "id": "17ac742b-1986-4ef5-9a37-59a57f839e17",
   "metadata": {},
   "outputs": [
    {
     "name": "stdout",
     "output_type": "stream",
     "text": [
      "> 2024-02-14 15:44:17,688 [info] Project loaded successfully: {'project_name': 'parcheggi'}\n"
     ]
    }
   ],
   "source": [
    "import mlrun \n",
    "\n",
    "project = mlrun.get_or_create_project(\"parcheggi\", \"./\")"
   ]
  },
  {
   "cell_type": "markdown",
   "id": "3091a46b-246d-4c1f-8054-4d0c601aaccf",
   "metadata": {},
   "source": [
    "### 2.2. ML training function\n",
    "We convert the ML operations into a function - single executable operation that can be executed in the platform."
   ]
  },
  {
   "cell_type": "code",
   "execution_count": 9,
   "id": "be58a753-d830-45e1-81a4-9bff2f4c7f81",
   "metadata": {},
   "outputs": [
    {
     "name": "stdout",
     "output_type": "stream",
     "text": [
      "Overwriting src/train_multimodel.py\n"
     ]
    }
   ],
   "source": [
    "%%writefile \"src/train_multimodel.py\"\n",
    "\n",
    "import mlrun\n",
    "import pandas as pd\n",
    "\n",
    "from darts import TimeSeries\n",
    "\n",
    "from darts.models import NBEATSModel\n",
    "from darts.metrics import mape, smape, mae\n",
    "from darts.dataprocessing.transformers import Scaler\n",
    "from zipfile import ZipFile\n",
    "\n",
    "import logging\n",
    "logging.disable(logging.CRITICAL)\n",
    "\n",
    "import warnings\n",
    "warnings.filterwarnings(\"ignore\")\n",
    "\n",
    "import datetime\n",
    "\n",
    "import pandas as pd\n",
    "import datetime\n",
    "\n",
    "from pickle import dumps\n",
    "\n",
    "def fill_missing(parc_df):\n",
    "    missing = []  # List to store timestamps for which values could not be filled\n",
    "    temp = pd.Series(parc_df.index.date).value_counts()  # Count the occurrences of each date\n",
    "    temp = temp[temp < 48]  # Filter dates with less than 48 occurrences\n",
    "    temp.sort_index(inplace=True)  # Sort the dates in ascending order\n",
    "    for t in temp.index:  # Iterate through the filtered dates\n",
    "        for h in range(24):  # Iterate through 24 hours\n",
    "            for half_hour in [0, 30]:  # Iterate through 0 and 30 minutes\n",
    "                ts = datetime.datetime(t.year, t.month, t.day, h, half_hour)  # Create a timestamp\n",
    "                if ts not in parc_df.index:  # If the timestamp is missing in the DataFrame\n",
    "                    if ts - datetime.timedelta(days=7) in parc_df.index:  # Check if the previous week's timestamp is available\n",
    "                        parc_df.loc[ts] = parc_df.loc[ts - datetime.timedelta(days=7)].copy()  # Copy values from the previous week\n",
    "                    elif ts + datetime.timedelta(days=7) in parc_df.index:  # Check if the next week's timestamp is available\n",
    "                        parc_df.loc[ts] = parc_df.loc[ts + datetime.timedelta(days=7)].copy()  # Copy values from the next week\n",
    "                    else:\n",
    "                        missing.append(ts)  # If values cannot be filled, add the timestamp to the missing list\n",
    "    return missing  # Return the list of timestamps for which values could not be filled\n",
    "\n",
    "@mlrun.handler()\n",
    "def train_model(context, parkings_di: mlrun.DataItem, window: int = 60, \n",
    "                input_chunk_length: int = 24, output_chunk_length: int = 12, n_epochs: int = 100, \n",
    "                split_ratio: float = 0.8):\n",
    "\n",
    "    # Load the input data\n",
    "    df_source = parkings_di.as_df()\n",
    "\n",
    "    # Clean the data\n",
    "    df_clean = df_source.copy()\n",
    "    df_clean.data = df_clean.data.astype('datetime64')\n",
    "    df_clean['occupied'] = df_clean.posti_occupati / df_clean.posti_totali\n",
    "    df_clean['date_time_slice'] = df_clean.data.dt.round('30min')\n",
    "    df_clean = df_clean[df_clean.date_time_slice >= (datetime.datetime.today() - pd.DateOffset(window))]\n",
    "    df_clean = df_clean[df_clean.date_time_slice <= (datetime.datetime.today() - pd.DateOffset(1))]\n",
    "    df_clean.posti_occupati = df_clean.apply(lambda x: max(0, min(x['posti_totali'], x['posti_occupati'])), axis=1)\n",
    "    df_clean['occupied'] = df_clean.posti_occupati / df_clean.posti_totali\n",
    "    df_clean = df_clean.drop(columns=['lat', 'lon', 'data', 'posti_totali', 'posti_liberi', 'posti_occupati'])\n",
    "    parcheggi = df_clean['parcheggio'].unique()\n",
    "\n",
    "    train_sets, val_sets = [], []\n",
    "\n",
    "    # Process data for each parking lot\n",
    "    for parcheggio in parcheggi:\n",
    "        parc_df = df_clean[df_clean['parcheggio'] == parcheggio]\n",
    "        parc_df['hour'] = parc_df.date_time_slice.dt.hour\n",
    "        parc_df['dow'] = parc_df.date_time_slice.dt.dayofweek\n",
    "        parc_df = parc_df.drop(columns=['parcheggio'])\n",
    "        parc_df = parc_df.groupby('date_time_slice').agg({'occupied': 'mean', 'hour': 'first', 'dow': 'first'})\n",
    "        fill_missing(parc_df)\n",
    "        ts = TimeSeries.from_dataframe(parc_df,  value_cols='occupied', freq='30min')\n",
    "        ts_scaled = Scaler().fit_transform(ts)\n",
    "        \n",
    "        split = int(len(ts_scaled) * (1 - split_ratio))\n",
    "\n",
    "        # Split data into training and validation sets\n",
    "        train, val = ts_scaled[:-split], ts_scaled[-split:]\n",
    "        train_sets.append(train)\n",
    "        val_sets.append(val)\n",
    "\n",
    "    # Train a multi-model using the NBEATS algorithm\n",
    "    multimodel =  NBEATSModel(\n",
    "        input_chunk_length=input_chunk_length,\n",
    "        output_chunk_length=output_chunk_length,\n",
    "        n_epochs=n_epochs,\n",
    "        random_state=0\n",
    "    )\n",
    "\n",
    "    # Fit the model to the training sets\n",
    "    multimodel.fit(train_sets)\n",
    "    pred = multimodel.predict(n=output_chunk_length*2, series=train_sets[0][:-output_chunk_length*2])\n",
    "\n",
    "    multimodel.save(\"parcheggi_predictor_model.pt\")\n",
    "    with ZipFile(\"parcheggi_predictor_model.pt.zip\", \"w\") as z:\n",
    "        z.write(\"parcheggi_predictor_model.pt\")\n",
    "        z.write(\"parcheggi_predictor_model.pt.ckpt\")\n",
    "\n",
    "    # log model to MLRun\n",
    "    context.log_model(\n",
    "        \"parcheggi_predictor_model\",\n",
    "        parameters={\n",
    "            \"window\": window,\n",
    "            \"input_chunk_length\": input_chunk_length,\n",
    "            \"output_chunk_length\": output_chunk_length,\n",
    "            \"n_epochs\": n_epochs,\n",
    "            \"split_ratio\": split_ratio,\n",
    "            \"num_layers\": multimodel.num_layers,\n",
    "            \"layer_widths\": multimodel.layer_widths,\n",
    "            \"activation\": multimodel.activation\n",
    "        },\n",
    "        metrics = {\n",
    "            \"mape\": mape(train_sets[0], pred),\n",
    "            \"smape\": smape(train_sets[0], pred),\n",
    "            \"mae\": mae(train_sets[0], pred)\n",
    "        },\n",
    "        model_file=\"parcheggi_predictor_model.pt.zip\",\n",
    "        labels={\"class\": \"darts.models.NBEATSModel\"},\n",
    "        algorithm=\"darts.models.NBEATSModel\",\n",
    "        framework=\"darts\"\n",
    "    ) \n"
   ]
  },
  {
   "cell_type": "code",
   "execution_count": 10,
   "id": "e30c8506-e4e8-48f1-9095-5c770094b295",
   "metadata": {},
   "outputs": [
    {
     "name": "stdout",
     "output_type": "stream",
     "text": [
      "> 2024-02-14 15:44:17,711 [warning] Failed to add git metadata, ignore if path is not part of a git repo.: {'path': 'src', 'error': '/home/jovyan/src'}\n"
     ]
    },
    {
     "data": {
      "text/plain": [
       "<mlrun.runtimes.kubejob.KubejobRuntime at 0x7f09266d71f0>"
      ]
     },
     "execution_count": 10,
     "metadata": {},
     "output_type": "execute_result"
    }
   ],
   "source": [
    "project.set_function(\"src/train_multimodel.py\", name=\"train-multimodel\", kind=\"job\", image=\"mlrun/mlrun\", handler=\"train_model\", requirements=['darts==0.25.0', 'pandas==1.4.4', 'numpy==1.22.4', 'patsy==0.5.2'])"
   ]
  },
  {
   "cell_type": "markdown",
   "id": "942c97a9-0d85-4450-93ce-29f9407f77ae",
   "metadata": {},
   "source": [
    "### 2.3. Train model\n",
    "Execute train model function. As a result, the function produces a ML model that is uploaded to the platform storage, versioned, and enriched with metadata (e.g., metrics)."
   ]
  },
  {
   "cell_type": "code",
   "execution_count": 11,
   "id": "cc5b263c-c3ac-4ac1-8a76-186d88aeb7ab",
   "metadata": {},
   "outputs": [
    {
     "name": "stdout",
     "output_type": "stream",
     "text": [
      "> 2024-02-14 15:44:17,731 [warning] it is recommended to use k8s secret (specify secret_name), specifying the aws_access_key/aws_secret_key directly is unsafe\n",
      "> 2024-02-14 15:44:17,752 [info] Storing function: {'name': 'train-multimodel-train-model', 'uid': 'd626f59f515245f78c31367ddc8cc8ec', 'db': 'http://mlrun-api:8080'}\n",
      "> 2024-02-14 15:44:17,871 [info] Job is running in the background, pod: train-multimodel-train-model-8bsxg\n",
      "The `LightGBM` module could not be imported. To enable LightGBM support in Darts, follow the detailed instructions in the installation guide: https://github.com/unit8co/darts/blob/master/INSTALL.md\n",
      "The `Prophet` module could not be imported. To enable Prophet support in Darts, follow the detailed instructions in the installation guide: https://github.com/unit8co/darts/blob/master/INSTALL.md\n",
      "The `CatBoost` module could not be imported. To enable CatBoost support in Darts, follow the detailed instructions in the installation guide: https://github.com/unit8co/darts/blob/master/INSTALL.md\n",
      "Epoch 9: 100%|##########| 213/213 [00:16<00:00, 13.23it/s, train_loss=0.0158] 3.33it/s, train_loss=0.0307]ain_loss=0.0252]loss=0.0219].0231]oss=0.0112]n_loss=0.0121]3.35it/s, train_loss=0.0151]13 [00:15<00:00, 13.21it/s, train_loss=0.0121].0208]och 4:  93%|#########3| 199/213 [00:15<00:01, 13.17it/s, train_loss=0.0149]2     | 91/213 [00:06<00:08, 13.61it/s, train_loss=0.0105]####2| 196/213 [00:14<00:01, 13.36it/s, train_loss=0.0132]_loss=0.0117]1, 13.18it/s, train_loss=0.0149]00:09, 13.05it/s, train_loss=0.00959]13 [00:14<00:01, 13.09it/s, train_loss=0.0117]  | 80/213 [00:06<00:10, 13.28it/s, train_loss=0.00846] 87%|########6 | 185/213 [00:14<00:02, 13.20it/s, train_loss=0.0105]4]\n",
      "Predicting DataLoader 0: 100%|##########| 1/1 [00:00<00:00, 74.75it/s]\n",
      "final state: completed\n"
     ]
    },
    {
     "data": {
      "text/html": [
       "<style>\n",
       ".dictlist {\n",
       "  background-color: #4EC64B;\n",
       "  text-align: center;\n",
       "  margin: 4px;\n",
       "  border-radius: 3px; padding: 0px 3px 1px 3px; display: inline-block;}\n",
       ".artifact {\n",
       "  cursor: pointer;\n",
       "  background-color: #4EC64B;\n",
       "  text-align: left;\n",
       "  margin: 4px; border-radius: 3px; padding: 0px 3px 1px 3px; display: inline-block;\n",
       "}\n",
       "div.block.hidden {\n",
       "  display: none;\n",
       "}\n",
       ".clickable {\n",
       "  cursor: pointer;\n",
       "}\n",
       ".ellipsis {\n",
       "  display: inline-block;\n",
       "  max-width: 60px;\n",
       "  white-space: nowrap;\n",
       "  overflow: hidden;\n",
       "  text-overflow: ellipsis;\n",
       "}\n",
       ".master-wrapper {\n",
       "  display: flex;\n",
       "  flex-flow: row nowrap;\n",
       "  justify-content: flex-start;\n",
       "  align-items: stretch;\n",
       "}\n",
       ".master-tbl {\n",
       "  flex: 3\n",
       "}\n",
       ".master-wrapper > div {\n",
       "  margin: 4px;\n",
       "  padding: 10px;\n",
       "}\n",
       "iframe.fileview {\n",
       "  border: 0 none;\n",
       "  height: 100%;\n",
       "  width: 100%;\n",
       "  white-space: pre-wrap;\n",
       "}\n",
       ".pane-header-title {\n",
       "  width: 80%;\n",
       "  font-weight: 500;\n",
       "}\n",
       ".pane-header {\n",
       "  line-height: 1;\n",
       "  background-color: #4EC64B;\n",
       "  padding: 3px;\n",
       "}\n",
       ".pane-header .close {\n",
       "  font-size: 20px;\n",
       "  font-weight: 700;\n",
       "  float: right;\n",
       "  margin-top: -5px;\n",
       "}\n",
       ".master-wrapper .right-pane {\n",
       "  border: 1px inset silver;\n",
       "  width: 40%;\n",
       "  min-height: 300px;\n",
       "  flex: 3\n",
       "  min-width: 500px;\n",
       "}\n",
       ".master-wrapper * {\n",
       "  box-sizing: border-box;\n",
       "}\n",
       "</style><script>\n",
       "function copyToClipboard(fld) {\n",
       "    if (document.queryCommandSupported && document.queryCommandSupported('copy')) {\n",
       "        var textarea = document.createElement('textarea');\n",
       "        textarea.textContent = fld.innerHTML;\n",
       "        textarea.style.position = 'fixed';\n",
       "        document.body.appendChild(textarea);\n",
       "        textarea.select();\n",
       "\n",
       "        try {\n",
       "            return document.execCommand('copy'); // Security exception may be thrown by some browsers.\n",
       "        } catch (ex) {\n",
       "\n",
       "        } finally {\n",
       "            document.body.removeChild(textarea);\n",
       "        }\n",
       "    }\n",
       "}\n",
       "function expandPanel(el) {\n",
       "  const panelName = \"#\" + el.getAttribute('paneName');\n",
       "  console.log(el.title);\n",
       "\n",
       "  document.querySelector(panelName + \"-title\").innerHTML = el.title\n",
       "  iframe = document.querySelector(panelName + \"-body\");\n",
       "\n",
       "  const tblcss = `<style> body { font-family: Arial, Helvetica, sans-serif;}\n",
       "    #csv { margin-bottom: 15px; }\n",
       "    #csv table { border-collapse: collapse;}\n",
       "    #csv table td { padding: 4px 8px; border: 1px solid silver;} </style>`;\n",
       "\n",
       "  function csvToHtmlTable(str) {\n",
       "    return '<div id=\"csv\"><table><tr><td>' +  str.replace(/[\\n\\r]+$/g, '').replace(/[\\n\\r]+/g, '</td></tr><tr><td>')\n",
       "      .replace(/,/g, '</td><td>') + '</td></tr></table></div>';\n",
       "  }\n",
       "\n",
       "  function reqListener () {\n",
       "    if (el.title.endsWith(\".csv\")) {\n",
       "      iframe.setAttribute(\"srcdoc\", tblcss + csvToHtmlTable(this.responseText));\n",
       "    } else {\n",
       "      iframe.setAttribute(\"srcdoc\", this.responseText);\n",
       "    }\n",
       "    console.log(this.responseText);\n",
       "  }\n",
       "\n",
       "  const oReq = new XMLHttpRequest();\n",
       "  oReq.addEventListener(\"load\", reqListener);\n",
       "  oReq.open(\"GET\", el.title);\n",
       "  oReq.send();\n",
       "\n",
       "\n",
       "  //iframe.src = el.title;\n",
       "  const resultPane = document.querySelector(panelName + \"-pane\");\n",
       "  if (resultPane.classList.contains(\"hidden\")) {\n",
       "    resultPane.classList.remove(\"hidden\");\n",
       "  }\n",
       "}\n",
       "function closePanel(el) {\n",
       "  const panelName = \"#\" + el.getAttribute('paneName')\n",
       "  const resultPane = document.querySelector(panelName + \"-pane\");\n",
       "  if (!resultPane.classList.contains(\"hidden\")) {\n",
       "    resultPane.classList.add(\"hidden\");\n",
       "  }\n",
       "}\n",
       "\n",
       "</script>\n",
       "<div class=\"master-wrapper\">\n",
       "  <div class=\"block master-tbl\"><div>\n",
       "<style scoped>\n",
       "    .dataframe tbody tr th:only-of-type {\n",
       "        vertical-align: middle;\n",
       "    }\n",
       "\n",
       "    .dataframe tbody tr th {\n",
       "        vertical-align: top;\n",
       "    }\n",
       "\n",
       "    .dataframe thead th {\n",
       "        text-align: right;\n",
       "    }\n",
       "</style>\n",
       "<table border=\"1\" class=\"dataframe\">\n",
       "  <thead>\n",
       "    <tr style=\"text-align: right;\">\n",
       "      <th>project</th>\n",
       "      <th>uid</th>\n",
       "      <th>iter</th>\n",
       "      <th>start</th>\n",
       "      <th>state</th>\n",
       "      <th>name</th>\n",
       "      <th>labels</th>\n",
       "      <th>inputs</th>\n",
       "      <th>parameters</th>\n",
       "      <th>results</th>\n",
       "      <th>artifacts</th>\n",
       "    </tr>\n",
       "  </thead>\n",
       "  <tbody>\n",
       "    <tr>\n",
       "      <td>parcheggi</td>\n",
       "      <td><div title=\"d626f59f515245f78c31367ddc8cc8ec\">...8cc8ec</div></td>\n",
       "      <td>0</td>\n",
       "      <td>Feb 14 15:44:20</td>\n",
       "      <td>completed</td>\n",
       "      <td>train-multimodel-train-model</td>\n",
       "      <td><div class=\"dictlist\">v3io_user=test</div><div class=\"dictlist\">kind=job</div><div class=\"dictlist\">owner=test</div><div class=\"dictlist\">mlrun/client_version=1.4.0</div><div class=\"dictlist\">mlrun/client_python_version=3.9.13</div><div class=\"dictlist\">host=train-multimodel-train-model-8bsxg</div></td>\n",
       "      <td><div title=\"store://datasets/parcheggi/download-all_dataset#0:latest\">parkings_di</div></td>\n",
       "      <td><div class=\"dictlist\">n_epochs=10</div></td>\n",
       "      <td></td>\n",
       "      <td><div title=\"s3://datalake/projects/parcheggi/artifacts/train-multimodel-train-model/0/parcheggi_predictor_model/\">parcheggi_predictor_model</div></td>\n",
       "    </tr>\n",
       "  </tbody>\n",
       "</table>\n",
       "</div></div>\n",
       "  <div id=\"resultb5a1ad7d-pane\" class=\"right-pane block hidden\">\n",
       "    <div class=\"pane-header\">\n",
       "      <span id=\"resultb5a1ad7d-title\" class=\"pane-header-title\">Title</span>\n",
       "      <span onclick=\"closePanel(this)\" paneName=\"resultb5a1ad7d\" class=\"close clickable\">&times;</span>\n",
       "    </div>\n",
       "    <iframe class=\"fileview\" id=\"resultb5a1ad7d-body\"></iframe>\n",
       "  </div>\n",
       "</div>\n"
      ],
      "text/plain": [
       "<IPython.core.display.HTML object>"
      ]
     },
     "metadata": {},
     "output_type": "display_data"
    },
    {
     "name": "stdout",
     "output_type": "stream",
     "text": [
      "\n"
     ]
    },
    {
     "data": {
      "text/html": [
       "<b> > to track results use the .show() or .logs() methods </b>"
      ],
      "text/plain": [
       "<IPython.core.display.HTML object>"
      ]
     },
     "metadata": {},
     "output_type": "display_data"
    },
    {
     "name": "stdout",
     "output_type": "stream",
     "text": [
      "> 2024-02-14 15:47:08,883 [info] Run execution finished: {'status': 'completed', 'name': 'train-multimodel-train-model'}\n"
     ]
    },
    {
     "data": {
      "text/plain": [
       "<mlrun.model.RunObject at 0x7f0a3ff57f10>"
      ]
     },
     "execution_count": 11,
     "metadata": {},
     "output_type": "execute_result"
    }
   ],
   "source": [
    "project.run_function(\"train-multimodel\", inputs={\"parkings_di\": \"store://datasets/parcheggi/download-all_dataset#0:latest\"}, params={\"n_epochs\": 10})"
   ]
  },
  {
   "cell_type": "markdown",
   "id": "0a03ac5d-680c-4c36-987a-43a6dbfce803",
   "metadata": {},
   "source": [
    "### 2.4. Deploy Model\n",
    "Next, we deploy the model in the serving function. Given that the interaction does not correspond to a standard MLRun model server, we will deploy the function as a custom server. See the implementation of ``predictor_serving.py`` for more details. \n",
    "\n",
    "For this, we add the model to the serving function using the ``add_model`` method."
   ]
  },
  {
   "cell_type": "code",
   "execution_count": 12,
   "id": "dcf0a94f-a72c-4140-9dd2-266d01638c1b",
   "metadata": {},
   "outputs": [
    {
     "name": "stdout",
     "output_type": "stream",
     "text": [
      "Overwriting src/predictor_serving.py\n"
     ]
    }
   ],
   "source": [
    "%%writefile \"src/predictor_serving.py\"\n",
    "\n",
    "from cloudpickle import load\n",
    "import numpy as np\n",
    "import mlrun\n",
    "from darts import TimeSeries\n",
    "import pandas as pd\n",
    "from darts.models import NBEATSModel\n",
    "from zipfile import ZipFile\n",
    "import json\n",
    "\n",
    "class ParkingPredictorModel(mlrun.serving.V2ModelServer):\n",
    "    def load(self):\n",
    "        \"\"\"\n",
    "        Load and initialize the model and/or other elements.\n",
    "        \"\"\"\n",
    "        # Get the model file and any extra data\n",
    "        model_file, extra_data = self.get_model('.zip')\n",
    "        # Open the model file as a zip file\n",
    "        file = ZipFile(model_file)\n",
    "        # Get the list of members (files) in the zip file and extract all of them to /tmp/model\n",
    "        members = file.namelist()\n",
    "        file.extractall('/tmp/model')\n",
    "        # Load the NBEATS model from the first member file\n",
    "        self.model = NBEATSModel.load('/tmp/model/'+members[0])\n",
    "    \n",
    "    def predict(self, body: dict) -> list:\n",
    "        \"\"\"Generate model predictions from input data.\n",
    "\n",
    "        Args:\n",
    "        - body: A dictionary containing input data.\n",
    "\n",
    "        Returns:\n",
    "        - A list of model predictions.\n",
    "        \"\"\"\n",
    "        # Create a TimeSeries from the input data\n",
    "        pdf = pd.DataFrame(body['inputs'])\n",
    "        pdf['date'] = pd.to_datetime(pdf['date'], unit='ms')\n",
    "\n",
    "        ts = TimeSeries.from_dataframe(\n",
    "            pdf,\n",
    "            time_col=\"date\",\n",
    "            value_cols=\"value\",\n",
    "            freq=\"30min\"\n",
    "        )\n",
    "\n",
    "        # Generate predictions using the model\n",
    "        result = self.model.predict(12, series=ts)\n",
    "\n",
    "        # Convert the result to a pandas DataFrame, reset the index, and convert to a list\n",
    "        jsonstr = result.pd_dataframe().reset_index().to_json(orient='records')\n",
    "        return json.loads(jsonstr)\n",
    "\n",
    "    "
   ]
  },
  {
   "cell_type": "code",
   "execution_count": 13,
   "id": "c50a047f-2f31-4019-a23a-29527692602e",
   "metadata": {},
   "outputs": [
    {
     "name": "stdout",
     "output_type": "stream",
     "text": [
      "> 2024-02-14 15:47:08,906 [warning] Failed to add git metadata, ignore if path is not part of a git repo.: {'path': 'src', 'error': '/home/jovyan/src'}\n",
      "> 2024-02-14 15:47:08,910 [warning] it is recommended to use k8s secret (specify secret_name), specifying the aws_access_key/aws_secret_key directly is unsafe\n",
      "> 2024-02-14 15:47:08,912 [info] Starting remote function deploy\n",
      "2024-02-14 15:47:08  (info) Deploying function\n",
      "2024-02-14 15:47:08  (info) Building\n",
      "2024-02-14 15:47:09  (info) Staging files and preparing base images\n",
      "2024-02-14 15:47:09  (info) Building processor image\n",
      "2024-02-14 15:49:14  (info) Build complete\n",
      "2024-02-14 15:49:24  (info) Function deploy complete\n",
      "> 2024-02-14 15:49:29,505 [info] successfully deployed function: {'internal_invocation_urls': ['nuclio-parcheggi-serving-predictor.digitalhub-test.svc.cluster.local:8080'], 'external_invocation_urls': [':31407']}\n"
     ]
    },
    {
     "data": {
      "text/plain": [
       "DeployStatus(state=ready, outputs={'endpoint': 'http://:31407', 'name': 'parcheggi-serving-predictor'})"
      ]
     },
     "execution_count": 13,
     "metadata": {},
     "output_type": "execute_result"
    }
   ],
   "source": [
    "serving_fn = project.set_function('src/predictor_serving.py', name='serving-predictor', kind='serving',image='mlrun/mlrun', requirements=['darts==0.25.0', 'pandas==1.4.4', 'numpy==1.22.4', 'patsy==0.5.2'])\n",
    "\n",
    "serving_fn.add_model(\n",
    "    \"parcheggi_predictor_model\",\n",
    "    model_path=\"store://models/parcheggi/train-multimodel-train-model_parcheggi_predictor_model#0:latest\",\n",
    "    class_name=\"ParkingPredictorModel\",\n",
    ")\n",
    "project.deploy_function(serving_fn)"
   ]
  }
 ],
 "metadata": {
  "kernelspec": {
   "display_name": "Python 3 (ipykernel)",
   "language": "python",
   "name": "python3"
  },
  "language_info": {
   "codemirror_mode": {
    "name": "ipython",
    "version": 3
   },
   "file_extension": ".py",
   "mimetype": "text/x-python",
   "name": "python",
   "nbconvert_exporter": "python",
   "pygments_lexer": "ipython3",
   "version": "3.9.13"
  }
 },
 "nbformat": 4,
 "nbformat_minor": 5
}
