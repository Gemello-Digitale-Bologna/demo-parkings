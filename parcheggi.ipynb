{
 "cells": [
  {
   "cell_type": "code",
   "execution_count": 1,
   "id": "129aab1e-5fd7-4d83-9b06-4e0dd4e794f0",
   "metadata": {},
   "outputs": [],
   "source": [
    "import mlrun\n",
    "import pandas as pd"
   ]
  },
  {
   "cell_type": "markdown",
   "id": "11c4111a-0287-487e-9e76-6d0a6e5a4812",
   "metadata": {},
   "source": [
    "## Initialize project\n",
    "Load project from git repository and set secrets to access gitlab. We set clone=True to clone the repository each time and to overwrite the code. "
   ]
  },
  {
   "cell_type": "code",
   "execution_count": 2,
   "id": "08fc3a7a-c66d-4b44-b509-ba628b4538b0",
   "metadata": {},
   "outputs": [],
   "source": [
    "project = mlrun.load_project(\"./parcheggi\", \"git://gitlab.hpc.cineca.it/dt-data-projects/gdb-project-parkings.git\", clone=True, secrets={\"GIT_TOKEN\" : \"XXXXXX\"})"
   ]
  },
  {
   "cell_type": "code",
   "execution_count": 3,
   "id": "2e054c97-aacf-4407-8b32-d5bff0050616",
   "metadata": {},
   "outputs": [
    {
     "name": "stdout",
     "output_type": "stream",
     "text": [
      "{'kind': 'project', 'metadata': {'name': 'parcheggi', 'created': '2023-12-21T16:37:58.071000'}, 'spec': {'functions': [{'url': 'src/download-all.py', 'name': 'download-all', 'kind': 'job', 'image': 'mlrun/mlrun', 'handler': 'downloader'}, {'url': 'src/extract_parkings.py', 'name': 'extract-parkings', 'kind': 'job', 'image': 'mlrun/mlrun', 'handler': 'extract_parkings'}, {'url': 'src/aggregate_parkings.py', 'name': 'aggregate-parkings', 'kind': 'job', 'image': 'mlrun/mlrun', 'handler': 'aggregate_parkings'}, {'url': 'src/parkings_last_data.py', 'name': 'extract-parkings-latest', 'kind': 'job', 'image': 'mlrun/mlrun', 'handler': 'parkings_last_data', 'requirements': ['sqlalchemy', 'psycopg2-binary']}, {'url': 'src/parkings_to_db.py', 'name': 'to-db', 'kind': 'job', 'image': 'mlrun/mlrun', 'handler': 'to_db', 'requirements': ['sqlalchemy', 'psycopg2-binary']}, {'url': 'src/train_predictors.py', 'name': 'predict-day', 'kind': 'job', 'image': 'mlrun/mlrun', 'handler': 'predict_day', 'requirements': ['sqlalchemy', 'psycopg2-binary', 'statsmodels']}], 'workflows': [{'path': './src/data_update_pipeline.py', 'name': 'data-update-pipeline', 'handler': 'pipeline'}], 'artifacts': [], 'conda': '', 'source': 'git://gitlab.hpc.cineca.it/dt-data-projects/gdb-project-parkings.git#refs/heads/main', 'origin_url': 'git://gitlab.hpc.cineca.it/dt-data-projects/gdb-project-parkings.git#refs/heads/main', 'load_source_on_run': False, 'desired_state': 'online', 'build': {'commands': [], 'requirements': []}, 'custom_packagers': []}, 'status': {'state': 'online'}}\n"
     ]
    }
   ],
   "source": [
    "print(project)"
   ]
  },
  {
   "cell_type": "markdown",
   "id": "bdfb85a2-8fb1-4d0f-a600-0a86ff5cda7d",
   "metadata": {},
   "source": [
    "### Set project secrets for execution\n",
    "Set secrets for the project: database credentials and gitlab access token. These secrets will be used in the functions."
   ]
  },
  {
   "cell_type": "code",
   "execution_count": 4,
   "id": "daa5df70-f7f6-4093-b306-fd7d4576029a",
   "metadata": {},
   "outputs": [],
   "source": [
    "project.set_secrets({\"GIT_TOKEN\" : \"XXXXXX\", \"DB_USERNAME\": \"digitalhub_owner_user\", \"DB_PASSWORD\": \"XXXXXX-XXXXXXX\"})"
   ]
  },
  {
   "cell_type": "markdown",
   "id": "c31456b4-27b1-469f-9556-cf233da179e1",
   "metadata": {},
   "source": [
    "### Build functions\n",
    "Build function images for remote execution. We use the base image \"mlrun/mlrun\" for the functions."
   ]
  },
  {
   "cell_type": "code",
   "execution_count": 5,
   "id": "cd37b8c1-4f35-4f7d-8321-28c1eb39585b",
   "metadata": {},
   "outputs": [
    {
     "name": "stdout",
     "output_type": "stream",
     "text": [
      "> 2024-01-15 10:37:35,589 [warning] it is recommended to use k8s secret (specify secret_name), specifying the aws_access_key/aws_secret_key directly is unsafe\n",
      "> 2024-01-15 10:37:35,692 [info] Started building image: .mlrun/func-parcheggi-extract-parkings-latest:latest\n",
      "\u001b[36mINFO\u001b[0m[0000] Retrieving image manifest mlrun/mlrun:1.4.0  \n",
      "\u001b[36mINFO\u001b[0m[0000] Retrieving image mlrun/mlrun:1.4.0 from registry index.docker.io \n",
      "\u001b[36mINFO\u001b[0m[0001] Built cross stage deps: map[]                \n",
      "\u001b[36mINFO\u001b[0m[0001] Retrieving image manifest mlrun/mlrun:1.4.0  \n",
      "\u001b[36mINFO\u001b[0m[0001] Returning cached image manifest              \n",
      "\u001b[36mINFO\u001b[0m[0001] Executing 0 build triggers                   \n",
      "\u001b[36mINFO\u001b[0m[0001] Unpacking rootfs as cmd RUN echo 'Installing /empty/requirements.txt...'; cat /empty/requirements.txt requires it. \n",
      "\u001b[36mINFO\u001b[0m[0019] RUN echo 'Installing /empty/requirements.txt...'; cat /empty/requirements.txt \n",
      "\u001b[36mINFO\u001b[0m[0019] Taking snapshot of full filesystem...        \n",
      "\u001b[36mINFO\u001b[0m[0034] cmd: /bin/sh                                 \n",
      "\u001b[36mINFO\u001b[0m[0034] args: [-c echo 'Installing /empty/requirements.txt...'; cat /empty/requirements.txt] \n",
      "\u001b[36mINFO\u001b[0m[0034] Running: [/bin/sh -c echo 'Installing /empty/requirements.txt...'; cat /empty/requirements.txt] \n",
      "Installing /empty/requirements.txt...\n",
      "sqlalchemy\n",
      "\u001b[36mINFO\u001b[0m[0034] Taking snapshot of full filesystem...        \n",
      "\u001b[36mINFO\u001b[0m[0035] No files were changed, appending empty layer to config. No layer added to image. \n",
      "\u001b[36mINFO\u001b[0m[0035] RUN python -m pip install -r /empty/requirements.txt \n",
      "\u001b[36mINFO\u001b[0m[0035] cmd: /bin/sh                                 \n",
      "\u001b[36mINFO\u001b[0m[0035] args: [-c python -m pip install -r /empty/requirements.txt] \n",
      "\u001b[36mINFO\u001b[0m[0035] Running: [/bin/sh -c python -m pip install -r /empty/requirements.txt] \n",
      "psycopg2-binaryRequirement already satisfied: sqlalchemy in /usr/local/lib/python3.9/site-packages (from -r /empty/requirements.txt (line 1)) (1.4.49)\n",
      "Collecting psycopg2-binary\n",
      "  Downloading psycopg2_binary-2.9.9-cp39-cp39-manylinux_2_17_x86_64.manylinux2014_x86_64.whl (3.0 MB)\n",
      "     ━━━━━━━━━━━━━━━━━━━━━━━━━━━━━━━━━━━━━━━━ 3.0/3.0 MB 96.7 MB/s eta 0:00:00\n",
      "Requirement already satisfied: greenlet!=0.4.17 in /usr/local/lib/python3.9/site-packages (from sqlalchemy->-r /empty/requirements.txt (line 1)) (2.0.2)\n",
      "Installing collected packages: psycopg2-binary\n",
      "Successfully installed psycopg2-binary-2.9.9\n",
      "WARNING: Running pip as the 'root' user can result in broken permissions and conflicting behaviour with the system package manager. It is recommended to use a virtual environment instead: https://pip.pypa.io/warnings/venv\n",
      "\n",
      "[notice] A new release of pip available: 22.3.1 -> 23.3.2\n",
      "[notice] To update, run: pip install --upgrade pip\n",
      "\u001b[36mINFO\u001b[0m[0037] Taking snapshot of full filesystem...        \n",
      "\u001b[36mINFO\u001b[0m[0039] Pushing image to registry.digitalhub-test.smartcommunitylab.it/mlrun/func-parcheggi-extract-parkings-latest:latest \n",
      "\u001b[36mINFO\u001b[0m[0047] Pushed registry.digitalhub-test.smartcommunitylab.it/mlrun/func-parcheggi-extract-parkings-latest@sha256:41bf47bfea0d6288cb83dd3534553119fa3255bb40f23533eb0760fa79f61df5 \n",
      "\n",
      "> 2024-01-15 10:38:26,814 [warning] it is recommended to use k8s secret (specify secret_name), specifying the aws_access_key/aws_secret_key directly is unsafe\n",
      "> 2024-01-15 10:38:26,916 [info] Started building image: .mlrun/func-parcheggi-predict-day:latest\n",
      "\u001b[36mINFO\u001b[0m[0000] Retrieving image manifest mlrun/mlrun:1.4.0  \n",
      "\u001b[36mINFO\u001b[0m[0000] Retrieving image mlrun/mlrun:1.4.0 from registry index.docker.io \n",
      "\u001b[36mINFO\u001b[0m[0001] Built cross stage deps: map[]                \n",
      "\u001b[36mINFO\u001b[0m[0001] Retrieving image manifest mlrun/mlrun:1.4.0  \n",
      "\u001b[36mINFO\u001b[0m[0001] Returning cached image manifest              \n",
      "\u001b[36mINFO\u001b[0m[0001] Executing 0 build triggers                   \n",
      "\u001b[36mINFO\u001b[0m[0001] Unpacking rootfs as cmd RUN echo 'Installing /empty/requirements.txt...'; cat /empty/requirements.txt requires it. \n",
      "\u001b[36mINFO\u001b[0m[0020] RUN echo 'Installing /empty/requirements.txt...'; cat /empty/requirements.txt \n",
      "\u001b[36mINFO\u001b[0m[0020] Taking snapshot of full filesystem...        \n",
      "\u001b[36mINFO\u001b[0m[0036] cmd: /bin/sh                                 \n",
      "\u001b[36mINFO\u001b[0m[0036] args: [-c echo 'Installing /empty/requirements.txt...'; cat /empty/requirements.txt] \n",
      "\u001b[36mINFO\u001b[0m[0036] Running: [/bin/sh -c echo 'Installing /empty/requirements.txt...'; cat /empty/requirements.txt] \n",
      "Installing /empty/requirements.txt...\n",
      "sqlalchemy\n",
      "psycopg2-binary\n",
      "\u001b[36mINFO\u001b[0m[0036] Taking snapshot of full filesystem...        \n",
      "\u001b[36mINFO\u001b[0m[0037] No files were changed, appending empty layer to config. No layer added to image. \n",
      "\u001b[36mINFO\u001b[0m[0037] RUN python -m pip install -r /empty/requirements.txt \n",
      "\u001b[36mINFO\u001b[0m[0037] cmd: /bin/sh                                 \n",
      "\u001b[36mINFO\u001b[0m[0037] args: [-c python -m pip install -r /empty/requirements.txt] \n",
      "\u001b[36mINFO\u001b[0m[0037] Running: [/bin/sh -c python -m pip install -r /empty/requirements.txt] \n",
      "statsmodelsRequirement already satisfied: sqlalchemy in /usr/local/lib/python3.9/site-packages (from -r /empty/requirements.txt (line 1)) (1.4.49)\n",
      "Collecting psycopg2-binary\n",
      "  Downloading psycopg2_binary-2.9.9-cp39-cp39-manylinux_2_17_x86_64.manylinux2014_x86_64.whl (3.0 MB)\n",
      "     ━━━━━━━━━━━━━━━━━━━━━━━━━━━━━━━━━━━━━━━━ 3.0/3.0 MB 113.6 MB/s eta 0:00:00\n",
      "Collecting statsmodels\n",
      "  Downloading statsmodels-0.14.1-cp39-cp39-manylinux_2_17_x86_64.manylinux2014_x86_64.whl (10.8 MB)\n",
      "     ━━━━━━━━━━━━━━━━━━━━━━━━━━━━━━━━━━━━━━━━ 10.8/10.8 MB 70.6 MB/s eta 0:00:00\n",
      "Requirement already satisfied: greenlet!=0.4.17 in /usr/local/lib/python3.9/site-packages (from sqlalchemy->-r /empty/requirements.txt (line 1)) (2.0.2)\n",
      "Collecting patsy>=0.5.4\n",
      "  Downloading patsy-0.5.6-py2.py3-none-any.whl (233 kB)\n",
      "     ━━━━━━━━━━━━━━━━━━━━━━━━━━━━━━━━━━━━━ 233.9/233.9 kB 373.5 MB/s eta 0:00:00\n",
      "Requirement already satisfied: pandas!=2.1.0,>=1.0 in /usr/local/lib/python3.9/site-packages (from statsmodels->-r /empty/requirements.txt (line 3)) (1.4.4)\n",
      "Requirement already satisfied: scipy!=1.9.2,>=1.4 in /usr/local/lib/python3.9/site-packages (from statsmodels->-r /empty/requirements.txt (line 3)) (1.11.1)\n",
      "Requirement already satisfied: packaging>=21.3 in /usr/local/lib/python3.9/site-packages (from statsmodels->-r /empty/requirements.txt (line 3)) (23.1)\n",
      "Requirement already satisfied: numpy<2,>=1.18 in /usr/local/lib/python3.9/site-packages (from statsmodels->-r /empty/requirements.txt (line 3)) (1.22.4)\n",
      "Requirement already satisfied: python-dateutil>=2.8.1 in /usr/local/lib/python3.9/site-packages (from pandas!=2.1.0,>=1.0->statsmodels->-r /empty/requirements.txt (line 3)) (2.8.2)\n",
      "Requirement already satisfied: pytz>=2020.1 in /usr/local/lib/python3.9/site-packages (from pandas!=2.1.0,>=1.0->statsmodels->-r /empty/requirements.txt (line 3)) (2023.3)\n",
      "Requirement already satisfied: six in /usr/local/lib/python3.9/site-packages (from patsy>=0.5.4->statsmodels->-r /empty/requirements.txt (line 3)) (1.16.0)\n",
      "Installing collected packages: psycopg2-binary, patsy, statsmodels\n",
      "Successfully installed patsy-0.5.6 psycopg2-binary-2.9.9 statsmodels-0.14.1\n",
      "WARNING: Running pip as the 'root' user can result in broken permissions and conflicting behaviour with the system package manager. It is recommended to use a virtual environment instead: https://pip.pypa.io/warnings/venv\n",
      "\n",
      "[notice] A new release of pip available: 22.3.1 -> 23.3.2\n",
      "[notice] To update, run: pip install --upgrade pip\n",
      "\u001b[36mINFO\u001b[0m[0041] Taking snapshot of full filesystem...        \n",
      "\u001b[36mINFO\u001b[0m[0044] Pushing image to registry.digitalhub-test.smartcommunitylab.it/mlrun/func-parcheggi-predict-day:latest \n",
      "\u001b[36mINFO\u001b[0m[0046] Pushed registry.digitalhub-test.smartcommunitylab.it/mlrun/func-parcheggi-predict-day@sha256:36b652e15473722be71f8cf4e655e3637a2b4e220016d996c99f5047c2fe6b3d \n",
      "\n",
      "> 2024-01-15 10:39:18,037 [warning] it is recommended to use k8s secret (specify secret_name), specifying the aws_access_key/aws_secret_key directly is unsafe\n",
      "> 2024-01-15 10:39:18,138 [info] Started building image: .mlrun/func-parcheggi-to-db:latest\n",
      "\u001b[36mINFO\u001b[0m[0000] Retrieving image manifest mlrun/mlrun:1.4.0  \n",
      "\u001b[36mINFO\u001b[0m[0000] Retrieving image mlrun/mlrun:1.4.0 from registry index.docker.io \n",
      "\u001b[36mINFO\u001b[0m[0000] Built cross stage deps: map[]                \n",
      "\u001b[36mINFO\u001b[0m[0000] Retrieving image manifest mlrun/mlrun:1.4.0  \n",
      "\u001b[36mINFO\u001b[0m[0000] Returning cached image manifest              \n",
      "\u001b[36mINFO\u001b[0m[0000] Executing 0 build triggers                   \n",
      "\u001b[36mINFO\u001b[0m[0000] Unpacking rootfs as cmd RUN echo 'Installing /empty/requirements.txt...'; cat /empty/requirements.txt requires it. \n",
      "\u001b[36mINFO\u001b[0m[0019] RUN echo 'Installing /empty/requirements.txt...'; cat /empty/requirements.txt \n",
      "\u001b[36mINFO\u001b[0m[0019] Taking snapshot of full filesystem...        \n",
      "\u001b[36mINFO\u001b[0m[0034] cmd: /bin/sh                                 \n",
      "\u001b[36mINFO\u001b[0m[0034] args: [-c echo 'Installing /empty/requirements.txt...'; cat /empty/requirements.txt] \n",
      "\u001b[36mINFO\u001b[0m[0034] Running: [/bin/sh -c echo 'Installing /empty/requirements.txt...'; cat /empty/requirements.txt] \n",
      "Installing /empty/requirements.txt...\n",
      "sqlalchemy\n",
      "\u001b[36mINFO\u001b[0m[0034] Taking snapshot of full filesystem...        \n",
      "\u001b[36mINFO\u001b[0m[0035] No files were changed, appending empty layer to config. No layer added to image. \n",
      "\u001b[36mINFO\u001b[0m[0035] RUN python -m pip install -r /empty/requirements.txt \n",
      "\u001b[36mINFO\u001b[0m[0035] cmd: /bin/sh                                 \n",
      "\u001b[36mINFO\u001b[0m[0035] args: [-c python -m pip install -r /empty/requirements.txt] \n",
      "\u001b[36mINFO\u001b[0m[0035] Running: [/bin/sh -c python -m pip install -r /empty/requirements.txt] \n",
      "psycopg2-binaryRequirement already satisfied: sqlalchemy in /usr/local/lib/python3.9/site-packages (from -r /empty/requirements.txt (line 1)) (1.4.49)\n",
      "Collecting psycopg2-binary\n",
      "  Downloading psycopg2_binary-2.9.9-cp39-cp39-manylinux_2_17_x86_64.manylinux2014_x86_64.whl (3.0 MB)\n",
      "     ━━━━━━━━━━━━━━━━━━━━━━━━━━━━━━━━━━━━━━━━ 3.0/3.0 MB 52.9 MB/s eta 0:00:00\n",
      "Requirement already satisfied: greenlet!=0.4.17 in /usr/local/lib/python3.9/site-packages (from sqlalchemy->-r /empty/requirements.txt (line 1)) (2.0.2)\n",
      "Installing collected packages: psycopg2-binary\n",
      "Successfully installed psycopg2-binary-2.9.9\n",
      "WARNING: Running pip as the 'root' user can result in broken permissions and conflicting behaviour with the system package manager. It is recommended to use a virtual environment instead: https://pip.pypa.io/warnings/venv\n",
      "\n",
      "[notice] A new release of pip available: 22.3.1 -> 23.3.2\n",
      "[notice] To update, run: pip install --upgrade pip\n",
      "\u001b[36mINFO\u001b[0m[0038] Taking snapshot of full filesystem...        \n",
      "\u001b[36mINFO\u001b[0m[0039] Pushing image to registry.digitalhub-test.smartcommunitylab.it/mlrun/func-parcheggi-to-db:latest \n",
      "\u001b[36mINFO\u001b[0m[0041] Pushed registry.digitalhub-test.smartcommunitylab.it/mlrun/func-parcheggi-to-db@sha256:c4218ed2f408fa8653b1006e8208714c3a1acfa86f2bb6a25728c93f763a648d \n",
      "\n"
     ]
    },
    {
     "data": {
      "text/plain": [
       "BuildStatus(ready=True, outputs={'image': '.mlrun/func-parcheggi-to-db:latest'})"
      ]
     },
     "execution_count": 5,
     "metadata": {},
     "output_type": "execute_result"
    }
   ],
   "source": [
    "project.build_function(\"extract-parkings-latest\", base_image=\"mlrun/mlrun\")\n",
    "project.build_function(\"predict-day\", base_image=\"mlrun/mlrun\")\n",
    "project.build_function(\"to-db\", base_image=\"mlrun/mlrun\")"
   ]
  },
  {
   "cell_type": "markdown",
   "id": "050073b0-50e7-4e61-9a2e-311b4422a064",
   "metadata": {},
   "source": [
    "## Run the code\n",
    "The project logically defines two procedures: one for data collection and aggregation and the other for the latest data update.\n",
    "The first one, data-collection, is defined in the pipeline `data-update-pipeline` and the second one is defined in the function `extract-parking-latest`. We schedule the execution of the two procedures accordingly: the data-update-pipeline is scheduled every night, while the extract-parking-latest is scheduled every 10 minutes.\n",
    "\n",
    "Once the operations are executed, the data is stored in the database and in the S3 bucket. It is possible to access it using SQLPad (for PostgreSQL), Minio (for S3), and MLRun UI for metadata. "
   ]
  },
  {
   "cell_type": "code",
   "execution_count": 6,
   "id": "868c1377-2b50-4657-9598-280765e4f26b",
   "metadata": {},
   "outputs": [
    {
     "name": "stdout",
     "output_type": "stream",
     "text": [
      "> 2024-01-15 10:40:03,118 [warning] WARNING!, you seem to have uncommitted git changes, use .push()\n",
      "> 2024-01-15 10:40:03,120 [info] executing workflow scheduling 'workflow-runner-pipeline' remotely with kfp engine\n",
      "> 2024-01-15 10:40:03,120 [warning] it is recommended to use k8s secret (specify secret_name), specifying the aws_access_key/aws_secret_key directly is unsafe\n",
      "> 2024-01-15 10:40:03,123 [info] Storing function: {'name': 'pipeline', 'uid': 'f0cdb1d00b9044aebf33bab163568cd6', 'db': None}\n",
      "> 2024-01-15 10:40:03,188 [info] task schedule modified: {'schedule': '0 0 * * *', 'project': 'parcheggi', 'name': 'pipeline'}\n"
     ]
    }
   ],
   "source": [
    "project.run(\"data-update-pipeline\", schedule=\"0 0 * * *\", artifact_path='s3://datalake/projects/parcheggi/artifacts/data-update-pipeline')"
   ]
  },
  {
   "cell_type": "code",
   "execution_count": 7,
   "id": "6b2d06cb-e248-4a2c-afc8-c33e6279dda1",
   "metadata": {},
   "outputs": [
    {
     "name": "stdout",
     "output_type": "stream",
     "text": [
      "> 2024-01-15 10:40:03,201 [info] Storing function: {'name': 'extract-parkings-latest-parkings-last-data', 'uid': '1a912282bba3419e9f63447d16036209', 'db': 'http://mlrun-api:8080'}\n",
      "> 2024-01-15 10:40:03,272 [info] task schedule modified: {'schedule': '*/10 * * * *', 'project': 'parcheggi', 'name': 'extract-parkings-latest-parkings-last-data'}\n"
     ]
    }
   ],
   "source": [
    "project.run_function(\"extract-parkings-latest\", local=False, schedule=\"*/10 * * * *\")"
   ]
  }
 ],
 "metadata": {
  "kernelspec": {
   "display_name": "Python 3 (ipykernel)",
   "language": "python",
   "name": "python3"
  },
  "language_info": {
   "codemirror_mode": {
    "name": "ipython",
    "version": 3
   },
   "file_extension": ".py",
   "mimetype": "text/x-python",
   "name": "python",
   "nbconvert_exporter": "python",
   "pygments_lexer": "ipython3",
   "version": "3.9.13"
  }
 },
 "nbformat": 4,
 "nbformat_minor": 5
}
